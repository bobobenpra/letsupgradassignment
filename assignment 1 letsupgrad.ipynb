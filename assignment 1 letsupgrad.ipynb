{
 "cells": [
  {
   "cell_type": "code",
   "execution_count": 9,
   "metadata": {},
   "outputs": [
    {
     "name": "stdout",
     "output_type": "stream",
     "text": [
      "enter the value of x:10\n",
      "enter the value of y: 5\n",
      "addition of x and y =  15\n",
      "subtraction of x and y =  5\n",
      "multiplication of x and y =  50\n",
      "division of x and y =  2.0\n"
     ]
    }
   ],
   "source": [
    "#Question 1\n",
    "# Write a python program that takes two numbers as the input and print the result of Addition,Subtraction, Multiplication, Division of the two numbers\n",
    "\n",
    "x = int(input('enter the value of x:'))\n",
    "y = int(input('enter the value of y: '))\n",
    "print(\"addition of x and y = \", (x+y))\n",
    "print(\"subtraction of x and y = \", x-y)\n",
    "print(\"multiplication of x and y = \", x*y)\n",
    "print(\"division of x and y = \", x/y)\n",
    "\n"
   ]
  },
  {
   "cell_type": "code",
   "execution_count": 11,
   "metadata": {},
   "outputs": [
    {
     "name": "stdout",
     "output_type": "stream",
     "text": [
      "enter the value of x:10\n",
      "enter the value of y: 2\n",
      "100\n"
     ]
    }
   ],
   "source": [
    "#Question 2\n",
    "# Write a python program that takes two numbers as the input such as X and Y and print the result of X^Y(X to the power of Y)\n",
    "\n",
    "x = int(input('enter the value of x:'))\n",
    "y = int(input('enter the value of y: '))\n",
    "\n",
    "result = x**y\n",
    "print(result)"
   ]
  }
 ],
 "metadata": {
  "kernelspec": {
   "display_name": "Python 3",
   "language": "python",
   "name": "python3"
  },
  "language_info": {
   "codemirror_mode": {
    "name": "ipython",
    "version": 3
   },
   "file_extension": ".py",
   "mimetype": "text/x-python",
   "name": "python",
   "nbconvert_exporter": "python",
   "pygments_lexer": "ipython3",
   "version": "3.8.5"
  }
 },
 "nbformat": 4,
 "nbformat_minor": 4
}
